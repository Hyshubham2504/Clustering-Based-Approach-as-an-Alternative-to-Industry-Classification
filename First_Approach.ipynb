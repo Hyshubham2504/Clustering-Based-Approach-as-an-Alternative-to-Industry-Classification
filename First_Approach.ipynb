{
  "nbformat": 4,
  "nbformat_minor": 0,
  "metadata": {
    "colab": {
      "provenance": []
    },
    "kernelspec": {
      "name": "python3",
      "display_name": "Python 3"
    },
    "language_info": {
      "name": "python"
    }
  },
  "cells": [
    {
      "cell_type": "code",
      "execution_count": null,
      "metadata": {
        "id": "ByXxEMTMN0OK"
      },
      "outputs": [],
      "source": []
    },
    {
      "cell_type": "markdown",
      "source": [
        "Test"
      ],
      "metadata": {
        "id": "L3WGzH8BTQo1"
      }
    },
    {
      "cell_type": "code",
      "source": [],
      "metadata": {
        "id": "xgHL49spTRLY"
      },
      "execution_count": null,
      "outputs": []
    }
  ]
}