{
  "nbformat": 4,
  "nbformat_minor": 0,
  "metadata": {
    "colab": {
      "provenance": [],
      "authorship_tag": "ABX9TyOQjPWC5d3uAe8XAI4utpG2",
      "include_colab_link": true
    },
    "kernelspec": {
      "name": "python3",
      "display_name": "Python 3"
    },
    "language_info": {
      "name": "python"
    }
  },
  "cells": [
    {
      "cell_type": "markdown",
      "metadata": {
        "id": "view-in-github",
        "colab_type": "text"
      },
      "source": [
        "<a href=\"https://colab.research.google.com/github/Hyshubham2504/Clustering-Project/blob/main/First_Approach.ipynb\" target=\"_parent\"><img src=\"https://colab.research.google.com/assets/colab-badge.svg\" alt=\"Open In Colab\"/></a>"
      ]
    },
    {
      "cell_type": "markdown",
      "source": [
        "###**1. Import libraries**"
      ],
      "metadata": {
        "id": "QoF6azx_T0p6"
      }
    },
    {
      "cell_type": "code",
      "execution_count": 1,
      "metadata": {
        "id": "ByXxEMTMN0OK"
      },
      "outputs": [],
      "source": [
        "import yfinance as yf\n",
        "import pandas as pd\n",
        "from bs4 import BeautifulSoup as bs\n",
        "import requests\n",
        "import numpy as np"
      ]
    },
    {
      "cell_type": "markdown",
      "source": [
        "###**2. Get the latest list of S&P 500 companies from Slickcharts**"
      ],
      "metadata": {
        "id": "fDTh63AhT7XJ"
      }
    },
    {
      "cell_type": "code",
      "source": [
        "# Get the latest S&P 500 components symbols (list of companies' ticker symbols)\n",
        "# Reference: https://www.reddit.com/r/algotrading/comments/mtgakn/free_api_to_get_up_to_date_list_of_all_sp_500/\n",
        "url = 'https://www.slickcharts.com/sp500'\n",
        "request = requests.get(url,headers={'User-Agent': 'Mozilla/5.0'})\n",
        "soup = bs(request.text, \"lxml\")\n",
        "stats = soup.find('table',class_='table table-hover table-borderless table-sm')\n",
        "\n",
        "df =pd.read_html(str(stats))[0]\n",
        "\n",
        "SP500_tickers = df['Symbol']"
      ],
      "metadata": {
        "id": "xgHL49spTRLY"
      },
      "execution_count": 2,
      "outputs": []
    },
    {
      "cell_type": "code",
      "source": [
        "# Check if we got the ticker symbol correctly\n",
        "print(SP500_tickers.head(), \"\\n\")\n",
        "print(SP500_tickers.describe())"
      ],
      "metadata": {
        "colab": {
          "base_uri": "https://localhost:8080/"
        },
        "id": "_zm63oM2UWXx",
        "outputId": "bf0c9404-5d45-4cc7-a204-f465d72020e3"
      },
      "execution_count": 6,
      "outputs": [
        {
          "output_type": "stream",
          "name": "stdout",
          "text": [
            "0    MSFT\n",
            "1    AAPL\n",
            "2    NVDA\n",
            "3    AMZN\n",
            "4    META\n",
            "Name: Symbol, dtype: object \n",
            "\n",
            "count      503\n",
            "unique     503\n",
            "top       MSFT\n",
            "freq         1\n",
            "Name: Symbol, dtype: object\n"
          ]
        }
      ]
    },
    {
      "cell_type": "markdown",
      "source": [
        "###**3. Get the daily return data of the 500 companies from Yahoo Finance** \\\n",
        "For the 20-year period 2004-01-01 — 2024-01-01 (YYYY-MM-dd)."
      ],
      "metadata": {
        "id": "ZEmegL5aUp0p"
      }
    },
    {
      "cell_type": "code",
      "source": [
        "# This can be pretty slow (3-4 minutes)\n",
        "SP500_dict = {}\n",
        "\n",
        "for ticker in SP500_tickers:\n",
        "    ticker_yahoo = yf.Ticker(ticker)\n",
        "    adj_close_data = ticker_yahoo.history(start=\"2004-01-01\",  end=\"2024-01-01\", auto_adjust=False, actions=False)[\"Adj Close\"]\n",
        "    SP500_dict[ticker] = adj_close_data.pct_change().dropna()"
      ],
      "metadata": {
        "id": "-SnhkjrYUZ-L"
      },
      "execution_count": null,
      "outputs": []
    },
    {
      "cell_type": "code",
      "source": [],
      "metadata": {
        "id": "OWHaa99WVd_0"
      },
      "execution_count": null,
      "outputs": []
    }
  ]
}